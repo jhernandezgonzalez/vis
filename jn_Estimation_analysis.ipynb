{
 "cells": [
  {
   "cell_type": "code",
   "execution_count": null,
   "metadata": {},
   "outputs": [],
   "source": [
    "%load_ext autoreload\n",
    "%autoreload 2\n",
    "%matplotlib inline"
   ]
  },
  {
   "cell_type": "code",
   "execution_count": null,
   "metadata": {},
   "outputs": [],
   "source": [
    "from scipy import stats\n",
    "import pickle\n",
    "import numpy as np\n",
    "import matplotlib.pyplot as plt\n",
    "from matplotlib import cm\n",
    "from mpl_toolkits.mplot3d import Axes3D"
   ]
  },
  {
   "cell_type": "code",
   "execution_count": null,
   "metadata": {},
   "outputs": [],
   "source": [
    "class MySymRV(stats.rv_continuous):\n",
    "    def __init__(self, name=\"SymMix\", shapes=\"alpha, sc1, mu2, sc2\", **args):\n",
    "        super(MySymRV, self).__init__(shapes=shapes, name=name, **args)\n",
    "\n",
    "    def __call__(self, *args, **kwds):\n",
    "        mu2 = np.sqrt((kwds[\"gvar\"] + (kwds[\"alpha\"]-1)*(kwds[\"sc1\"]**2) - kwds[\"alpha\"]*(kwds[\"sc2\"]**2))/kwds[\"alpha\"])\n",
    "        print(mu2)\n",
    "        kwds[\"mu2\"] = mu2\n",
    "        del kwds[\"gvar\"]\n",
    "        return super(MySymRV, self).__call__(*args, **kwds)\n",
    "\n",
    "    def _pdf(self, x, alpha, sc1, mu2, sc2,*args, **kwargs):\n",
    "        p1 = (1-alpha) * stats.norm.pdf(x, loc=0, scale=sc1)\n",
    "        p2 = alpha/2 * stats.norm.pdf(x, loc=-mu2, scale=sc2)\n",
    "        p3 = alpha/2 * stats.norm.pdf(x, loc=mu2, scale=sc2)\n",
    "        return p1+p2+p3\n",
    "    def _cdf(self, x, alpha, sc1, mu2, sc2,*args, **kwargs):\n",
    "        p1 = (1-alpha) * stats.norm.cdf(x, loc=0, scale=sc1)\n",
    "        p2 = alpha/2 * stats.norm.cdf(x, loc=-mu2, scale=sc2)\n",
    "        p3 = alpha/2 * stats.norm.cdf(x, loc=mu2, scale=sc2)\n",
    "        return p1+p2+p3\n",
    "    def _rvs(self, alpha, sc1, mu2, sc2, *args, **kwargs):\n",
    "        x = np.prod(self._size)\n",
    "        vect = np.zeros(x)\n",
    "        sxp = stats.multinomial.rvs(x, [(1-alpha), alpha/2, alpha/2], size=1)[0]\n",
    "        if sxp[0]>0:\n",
    "            vect[:sxp[0]] = stats.norm.rvs(loc=0, scale=sc1, size=sxp[0])\n",
    "        if sxp[1]>0:\n",
    "            vect[sxp[0]:np.sum(sxp[:2])] = stats.norm.rvs(loc=-mu2, scale=sc2, size=sxp[1])\n",
    "        if sxp[2]>0:\n",
    "            vect[np.sum(sxp[:2]):x] = stats.norm.rvs(loc=mu2, scale=sc2, size=sxp[2])\n",
    "        np.random.shuffle(vect)\n",
    "        vect = vect.reshape(self._size)\n",
    "        return vect\n",
    "    def title(self, alpha, sc1, mu2, sc2):\n",
    "        aux = str(np.round(alpha/2,4))+\"*N(-\"+str(np.round(mu2,3))+\",\"+str(np.round(sc2**2,3))+\")+\"+\\\n",
    "          str(np.round(1-alpha,4))+\"*N(0,\"+str(np.round(sc1**2,3))+\")+\"+\\\n",
    "          str(np.round(alpha/2,4))+\"*N(\"+str(np.round(mu2,3))+\",\"+str(np.round(sc2**2,3))+\")\"\n",
    "        return aux"
   ]
  },
  {
   "cell_type": "code",
   "execution_count": null,
   "metadata": {},
   "outputs": [],
   "source": [
    "class MyAsymRV(stats.rv_continuous):\n",
    "    def __init__(self, name=\"AsymMix\", shapes=\"alpha, mu1, sc1, mu2, sc2\", **args):\n",
    "        super(MyAsymRV, self).__init__(shapes=shapes, name=name, **args)\n",
    "\n",
    "    def __call__(self, *args, **kwds):\n",
    "        #sc2 = kwds[\"gvar\"] - (1-kwds[\"alpha\"])*(kwds[\"sc1\"]**2 + mu1**2) - kwds[\"alpha\"]*(kwds[\"mu2\"]**2) # - gmu**2\n",
    "        #sc2 = np.sqrt(sc2/kwds[\"alpha\"])\n",
    "        mu2 = np.sqrt((1-kwds[\"alpha\"])/(kwds[\"alpha\"])*\\\n",
    "                      (kwds[\"gvar\"] + (kwds[\"alpha\"]-1)*(kwds[\"sc1\"]**2) - kwds[\"alpha\"]*(kwds[\"sc2\"]**2)))\n",
    "        mu1 = mu2 * kwds[\"alpha\"] / (kwds[\"alpha\"]-1) # to fix mean=0\n",
    "        print(mu1,mu2)\n",
    "        #kwds[\"sc2\"] = sc2\n",
    "        kwds[\"mu1\"] = -mu1\n",
    "        kwds[\"mu2\"] = mu2\n",
    "        del kwds[\"gvar\"]\n",
    "        return super(MyAsymRV, self).__call__(*args, **kwds)\n",
    "        \n",
    "    def _pdf(self, x, alpha, mu1, sc1, mu2, sc2,*args, **kwargs):\n",
    "        p1 = (1-alpha) * stats.norm.pdf(x, loc=-mu1, scale=sc1)\n",
    "        p2 = alpha * stats.norm.pdf(x, loc=mu2, scale=sc2)\n",
    "        return p1+p2\n",
    "    def _cdf(self, x, alpha, mu1, sc1, mu2, sc2,*args, **kwargs):\n",
    "        p1 = (1-alpha) * stats.norm.cdf(x, loc=-mu1, scale=sc1)\n",
    "        p2 = alpha * stats.norm.cdf(x, loc=mu2, scale=sc2)\n",
    "        return p1+p2\n",
    "    def _rvs(self, alpha, mu1, sc1, mu2, sc2, *args, **kwargs):\n",
    "        x = np.prod(self._size)\n",
    "        vect = np.zeros(x)\n",
    "        sxp = stats.multinomial.rvs(x, [(1-alpha), alpha], size=1)[0]\n",
    "        if sxp[0]>0:\n",
    "            vect[:sxp[0]] = stats.norm.rvs(loc=-mu1, scale=sc1, size=sxp[0])\n",
    "        if sxp[1]>0:\n",
    "            vect[sxp[0]:] = stats.norm.rvs(loc=mu2, scale=sc2, size=sxp[1])\n",
    "        np.random.shuffle(vect)\n",
    "        vect = vect.reshape(self._size)\n",
    "        return vect\n",
    "    def title(self, alpha, mu1, sc1, mu2, sc2):\n",
    "        aux = str(np.round(1-alpha,4))+\"*N(-\"+str(np.round(mu1,3))+\",\"+str(np.round(sc1**2,3))+\")+\"+\\\n",
    "          str(np.round(alpha,4))+\"*N(\"+str(np.round(mu2,3))+\",\"+str(np.round(sc2**2,3))+\")\"\n",
    "        return aux"
   ]
  },
  {
   "cell_type": "code",
   "execution_count": null,
   "metadata": {},
   "outputs": [],
   "source": [
    "# Params\n",
    "rv1_global_var = 6.0\n",
    "rv1_main_var = 0.2\n",
    "rv1_extr_var = 1.0\n",
    "rv2_global_var = 4.0\n",
    "alpha = 2.**(-10)\n",
    "\n",
    "mixture = MyAsymRV"
   ]
  },
  {
   "cell_type": "code",
   "execution_count": null,
   "metadata": {},
   "outputs": [],
   "source": [
    "def mse(estimates, real_val=0):\n",
    "    return np.mean((real_val-estimates)**2)\n",
    "def mare(estimates, real_val=1):\n",
    "    return np.mean(np.abs((real_val-estimates)/real_val))\n",
    "def mae(estimates, real_val=0):\n",
    "    return np.mean(np.abs(real_val-estimates))"
   ]
  },
  {
   "cell_type": "code",
   "execution_count": null,
   "metadata": {},
   "outputs": [],
   "source": [
    "# Obtains n_estimates number of estimates from an estimator that is the mean of n_samples samples.\n",
    "def get_mse_mae_with_estimates(rv1, rv2, n_estimates, n_samples, real_val=0):\n",
    "    samples1 = rv1.rvs(size=(n_estimates,n_samples))\n",
    "    samples2 = rv2.rvs(size=(n_estimates,n_samples))\n",
    "    estimates1 = np.mean(samples1,axis=1)\n",
    "    estimates2 = np.mean(samples2,axis=1)\n",
    "    mse1 = mse(estimates1)\n",
    "    mse2 = mse(estimates2)\n",
    "    mae1 = mae(estimates1)\n",
    "    mae2 = mae(estimates2)\n",
    "    return int(mse1<=mse2), int(mae1<=mae2)"
   ]
  },
  {
   "cell_type": "code",
   "execution_count": null,
   "metadata": {
    "scrolled": true
   },
   "outputs": [],
   "source": [
    "\n",
    "# We repeat each experiment n_repetitions time \n",
    "# In each experiment we compare the MSE of repeating an estimator n_estimates times\n",
    "# Each estimator is the average of n_samples samples\n",
    "\n",
    "n_reps = 1000\n",
    "n_pnts = 12\n",
    "\n",
    "l_alphas = 2.0**(-1*np.arange(1,n_pnts))\n",
    "l_num_samples = 2**np.arange(n_pnts)\n",
    "l_num_estimates = 2**np.arange(n_pnts)\n",
    "\n",
    "results_mse = np.zeros((len(l_alphas),len(l_num_samples),len(l_num_estimates)))\n",
    "results_mae = np.zeros((len(l_alphas),len(l_num_samples),len(l_num_estimates)))\n",
    "\n",
    "my_rv2 = stats.norm(loc=0, scale=np.sqrt(rv2_global_var))\n",
    "\n",
    "for i_a, alpha in enumerate(l_alphas):\n",
    "    print(\"alpha\",i_a,alpha)\n",
    "    my_rv1 = mixture()\n",
    "    my_rv1 = my_rv1(alpha=alpha, sc1=np.sqrt(rv1_main_var), sc2=np.sqrt(rv1_extr_var), gvar=rv1_global_var)\n",
    "    #my_rv1 = my_rv1(sc1=rv1_main_stdev, alpha=alpha, mu2=rv1_extr_mean, sc2=rv1_extr_stdev)\n",
    "\n",
    "    for i_s, n_samples in enumerate(l_num_samples):\n",
    "        print(\"samples\",i_s,n_samples)\n",
    "        for i_e, n_estimates in enumerate(l_num_estimates):\n",
    "            print(\"estimates\",i_e,n_estimates)\n",
    "            counts = np.zeros((n_reps,2))\n",
    "            for i in np.arange(n_reps):\n",
    "                counts[i,:] = get_mse_mae_with_estimates(my_rv1, my_rv2, n_estimates, n_samples, real_val=0)\n",
    "            aux = np.mean(counts,axis=0)\n",
    "            results_mse[i_a,i_s,i_e] = aux[0]\n",
    "            results_mae[i_a,i_s,i_e] = aux[1]"
   ]
  },
  {
   "cell_type": "code",
   "execution_count": null,
   "metadata": {},
   "outputs": [],
   "source": [
    "f_pckl_name = \"results/exp200505_\"+my_rv1.dist.name+\"_estim_analysis\"+ \\\n",
    "    \"_nrep_\"+str(n_reps)+\"_npt_\"+str(n_pnts)+\"_varA_\"+str(rv2_global_var) + \\\n",
    "    \"_varB_\"+str(rv1_global_var) +\"_varB1_\"+str(rv1_main_var) +\"_varB2_\"+str(rv1_extr_var)+\".pickle\"\n",
    "data = {\"mse\":results_mse,\n",
    "        \"mae\":results_mae}\n",
    "\n",
    "with open(f_pckl_name, 'wb') as f_pckl:\n",
    "    pickle.dump(data, f_pckl, pickle.HIGHEST_PROTOCOL)\n"
   ]
  },
  {
   "cell_type": "markdown",
   "metadata": {},
   "source": [
    "## Plot distributions"
   ]
  },
  {
   "cell_type": "code",
   "execution_count": null,
   "metadata": {},
   "outputs": [],
   "source": [
    "# Params\n",
    "#rv1_global_var = 6.0\n",
    "#rv1_main_var = 0.2\n",
    "#rv1_extr_var = 1.0\n",
    "#rv2_global_var = 4.0\n",
    "alpha = 2.**(-10)\n",
    "\n",
    "mixture = MyAsymRV"
   ]
  },
  {
   "cell_type": "code",
   "execution_count": null,
   "metadata": {},
   "outputs": [],
   "source": [
    "my_rv1 = mixture()\n",
    "my_rv1 = my_rv1(alpha=alpha, sc1=np.sqrt(rv1_main_var), sc2=np.sqrt(rv1_extr_var), gvar=rv1_global_var)\n",
    "var1 = my_rv1.var()\n",
    "my_rv2 = stats.norm(loc=0, scale=np.sqrt(rv2_global_var))\n",
    "var2 = my_rv2.var()\n",
    "print(\"var rv1\",var1)\n",
    "print(\"var rv2\",var2)"
   ]
  },
  {
   "cell_type": "code",
   "execution_count": null,
   "metadata": {},
   "outputs": [],
   "source": [
    "from mpl_toolkits.axes_grid1.inset_locator import zoomed_inset_axes, inset_axes, mark_inset\n",
    "\n",
    "X = np.linspace(-np.round(my_rv1.kwds[\"mu2\"]*1.1), np.round(my_rv1.kwds[\"mu2\"]*1.1), 1000)\n",
    "pdf1 = my_rv1.pdf(X)\n",
    "pdf2 = my_rv2.pdf(X)\n",
    "fig,ax = plt.subplots(figsize=(10,4))\n",
    "ax.set_title(\"Two distributions, a normal N(0,\"+str(rv2_global_var)+\") and a mixture \" + my_rv1.dist.title(**my_rv1.kwds))\n",
    "ax.plot(X, pdf1, label=my_rv1.dist.name+' (Var.= '+str(np.round(var1,4))+\")\")\n",
    "ax.plot(X, pdf2, label='Normal (Var.= '+str(np.round(var2,4))+\")\")\n",
    "ax.legend()#loc='center left')\n",
    "\n",
    "axins = inset_axes(ax, 1.5,.7 , loc=1, bbox_to_anchor=(0.85, 0.7), bbox_transform=ax.figure.transFigure) # no zoom\n",
    "\n",
    "x1, x2 = my_rv1.kwds[\"mu2\"]-my_rv1.kwds[\"sc2\"]*4, my_rv1.kwds[\"mu2\"]+my_rv1.kwds[\"sc2\"]*4#np.round(my_rv1.kwds[\"mu2\"]*.9),np.round(my_rv1.kwds[\"mu2\"]*1.1)\n",
    "alt_X = np.linspace(x1, x2, 1000)\n",
    "alt_pdf1 = my_rv1.pdf(alt_X)\n",
    "alt_pdf2 = my_rv2.pdf(alt_X)\n",
    "axins.plot(alt_X, alt_pdf1)\n",
    "axins.plot(alt_X, alt_pdf2)\n",
    "\n",
    "val = np.max(alt_pdf1)\n",
    "y1, y2 = -val*0.2, val+val*0.2 # specify the limits\n",
    "axins.set_xlim(x1, x2) # apply the x-limits\n",
    "axins.set_ylim(y1, y2) # apply the y-limits\n",
    "\n",
    "mark_inset(ax, axins, loc1=4, loc2=3, fc=\"none\", ec=\"0.5\")\n",
    "\n",
    "if my_rv1.dist.name==\"SymMix\":\n",
    "    axins = inset_axes(ax, 4,2 , loc=1, bbox_to_anchor=(0.4, 0.7), bbox_transform=ax.figure.transFigure) # no zoom\n",
    "\n",
    "    x1, x2 = -my_rv1.kwds[\"mu2\"]-my_rv1.kwds[\"sc2\"]*4, -my_rv1.kwds[\"mu2\"]+my_rv1.kwds[\"sc2\"]*4#np.round(-my_rv1.kwds[\"mu2\"]*1.1),np.round(-my_rv1.kwds[\"mu2\"]*.9)\n",
    "    alt_X = np.linspace(x1, x2, 1000)\n",
    "    alt_pdf1 = my_rv1.pdf(alt_X)\n",
    "    alt_pdf2 = my_rv2.pdf(alt_X)\n",
    "    axins.plot(alt_X, alt_pdf1)\n",
    "    axins.plot(alt_X, alt_pdf2)\n",
    "\n",
    "    val = np.max(alt_pdf1)\n",
    "    y1, y2 = -val*0.2, val+val*0.2 # specify the limits\n",
    "    axins.set_xlim(x1, x2) # apply the x-limits\n",
    "    axins.set_ylim(y1, y2) # apply the y-limits\n",
    "\n",
    "    mark_inset(ax, axins, loc1=2, loc2=4, fc=\"none\", ec=\"0.5\")\n",
    "\n",
    "plt.show()"
   ]
  },
  {
   "cell_type": "markdown",
   "metadata": {},
   "source": [
    "## Print results"
   ]
  },
  {
   "cell_type": "code",
   "execution_count": null,
   "metadata": {},
   "outputs": [],
   "source": [
    "file = \"results/exp200505_AsymMix_estim_analysis_nrep_1000_npt_12_varA_4.0_varB_6.0_varB1_0.2_varB2_1.0.pickle\"\n",
    "with open(file, 'rb') as f_pckl:\n",
    "    data = pickle.load(f_pckl)\n"
   ]
  },
  {
   "cell_type": "code",
   "execution_count": null,
   "metadata": {},
   "outputs": [],
   "source": [
    "n_pnts = 12\n",
    "results_mse = data[\"mse\"]"
   ]
  },
  {
   "cell_type": "code",
   "execution_count": null,
   "metadata": {},
   "outputs": [],
   "source": [
    "X = np.arange(n_pnts)\n",
    "Y = np.arange(n_pnts)\n",
    "X, Y = np.meshgrid(X, Y)\n",
    "\n",
    "Za = results_mse[10,:,:]\n",
    "Zb = results_mse[9,:,:]"
   ]
  },
  {
   "cell_type": "code",
   "execution_count": null,
   "metadata": {},
   "outputs": [],
   "source": [
    "fig = plt.figure(figsize=(10,7))\n",
    "ax = fig.gca(projection='3d')\n",
    "\n",
    "surf = ax.plot_surface(X, Y, Za, cmap=cm.coolwarm,\n",
    "                       linewidth=0, antialiased=False)\n",
    "\n",
    "#surf = ax.plot_surface(X, Y, Zb, cmap=cm.cool,\n",
    "#                       linewidth=0, antialiased=False)\n",
    "\n",
    "ax.set_xlabel(\"Num. estimators\")\n",
    "ax.set_ylabel(\"Num. samples\")\n",
    "ax.set_zlabel(\"Proportion of cases Err(LowVar) >= Err(LargeVar)\")\n",
    "\n",
    "ax.set_xticks(np.arange(1,n_pnts,2))\n",
    "ax.set_xticklabels((2.**np.arange(1,n_pnts,2)).astype(int))\n",
    "\n",
    "ax.set_yticks(np.arange(1,n_pnts,2))\n",
    "ax.set_yticklabels((2.**np.arange(1,n_pnts,2)).astype(int))\n",
    "\n",
    "ax.view_init(elev=15, azim=115)\n",
    "# Add a color bar which maps values to colors.\n",
    "#fig.colorbar(surf, shrink=0.5, aspect=5)\n",
    "\n",
    "plt.show()\n"
   ]
  },
  {
   "cell_type": "code",
   "execution_count": null,
   "metadata": {},
   "outputs": [],
   "source": [
    "fig, ax = plt.subplots(figsize=(7,5))\n",
    "\n",
    "X = np.arange(n_pnts)\n",
    "Y = results_mse[10,0,:]\n",
    "\n",
    "ax.plot(X, Y)\n",
    "ax.set_xticks(np.arange(1,n_pnts,2))\n",
    "ax.set_xticklabels((2.**np.arange(1,n_pnts,2)).astype(int))\n",
    "\n",
    "ax.set_xlabel(\"Num. estimators\")\n",
    "\n",
    "ax.set_ylim((0,1))\n",
    "ax.set_ylabel(\"Proportion of cases Err(LowVar) >= Err(LargeVar)\")\n",
    "\n",
    "plt.show()"
   ]
  },
  {
   "cell_type": "code",
   "execution_count": null,
   "metadata": {},
   "outputs": [],
   "source": []
  }
 ],
 "metadata": {
  "kernelspec": {
   "display_name": "Python 3",
   "language": "python",
   "name": "python3"
  },
  "language_info": {
   "codemirror_mode": {
    "name": "ipython",
    "version": 3
   },
   "file_extension": ".py",
   "mimetype": "text/x-python",
   "name": "python",
   "nbconvert_exporter": "python",
   "pygments_lexer": "ipython3",
   "version": "3.7.3"
  }
 },
 "nbformat": 4,
 "nbformat_minor": 2
}
